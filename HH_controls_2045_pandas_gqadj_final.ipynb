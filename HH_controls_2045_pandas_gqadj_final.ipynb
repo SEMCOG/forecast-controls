{
 "cells": [
  {
   "cell_type": "markdown",
   "metadata": {},
   "source": [
    "### This is the script to develop 2045 household control totals from REMI population forecast\n",
    "Need three input data tables:    \n",
    "1, REMI population forecast (total pop by year, race, gender, age and large area)    \n",
    "2, Synthesized persons table (with large area)  \n",
    "3, Synthesized households table   \n",
    "4, REMI HH pop and GQ pop distribution by age group"
   ]
  },
  {
   "cell_type": "code",
   "execution_count": 51,
   "metadata": {
    "collapsed": false
   },
   "outputs": [],
   "source": [
    "import pandas as pd\n",
    "from numpy import *\n",
    "import itertools\n",
    "\n",
    "import logging\n",
    "logger = logging.getLogger()\n",
    "logger.setLevel(logging.ERROR)  #DEBUG, INFO, WARNING, ERROR, CRITICAL"
   ]
  },
  {
   "cell_type": "markdown",
   "metadata": {},
   "source": [
    "# set up inputs"
   ]
  },
  {
   "cell_type": "code",
   "execution_count": 52,
   "metadata": {
    "collapsed": false
   },
   "outputs": [],
   "source": [
    "# folders & files\n",
    "inputdir = './inputs/'\n",
    "outputdir = './outputs/'\n",
    "syn_hh_file = 'syn_households.csv'  # synthesized HH file\n",
    "syn_hhpop_file = 'syn_persons.csv'  # synthesized (hh pop)persons file\n",
    "hh_gq_file='REMIHHPOPCONTROLS_ByYear2015_20145_TotalsbyLargeArea.xlsx' #hhpop and group quarter distribution by age group in each large area\n",
    "\n",
    "years = range(2015, 2046)\n",
    "baseyear = 2015\n",
    "\n",
    "# final household attributes, including large area, to be used in control totals\n",
    "control_attrs = ['large_area_id', 'race_id', 'age_of_head', 'persons', 'children', 'cars', 'workers', 'income']\n",
    "\n",
    "# define bins for digitization\n",
    "bin_census_agegrp =[0, 5, 10, 15, 18, 20, 21, 22, 25, 30, 35, 40, 45, 50, 55, 60, 61, 65, 66, 70, 75, 80, 85]\n",
    "ctrl_bins = {'age_of_head':[0, 5, 18, 25, 35, 65], \n",
    "             'persons':[1,2,3,4,5,6,7,8,9,10], \n",
    "             'children':[0,1,2,3], \n",
    "             'cars':[0,1,2,3], \n",
    "             'workers':[0,1,2,3]\n",
    "            }\n",
    "\n"
   ]
  },
  {
   "cell_type": "markdown",
   "metadata": {},
   "source": [
    "\n",
    "## Step 1. Compute REMI household population\n",
    "#### using the ratios between base year REMI pop and Census HH pop to produce REMI HH pop for all forecast years. #"
   ]
  },
  {
   "cell_type": "code",
   "execution_count": 53,
   "metadata": {
    "collapsed": false
   },
   "outputs": [
    {
     "name": "stdout",
     "output_type": "stream",
     "text": [
      "processing table control washtenaw.xlsx . . . . . . . . done\n",
      "processing table control rest of wayne.xlsx . . . . . . . . done\n",
      "processing table control livingston.xlsx . . . . . . . . done\n",
      "processing table control monroe.xlsx . . . . . . . . done\n",
      "processing table control oakland.xlsx . . . . . . . . done\n",
      "processing table control st clair.xlsx . . . . . . . . done\n",
      "processing table control detroit.xlsx . . . . . . . . done\n",
      "processing table control macomb.xlsx . . . . . . . . done\n"
     ]
    }
   ],
   "source": [
    "# read input excel files and combine\n",
    "\n",
    "dic_la = {\"detroit\": 5, \"rest of wayne\": 3, \"macomb\": 99, \"livingston\": 93,\n",
    "          \"monroe\": 115, \"oakland\": 125, \"st clair\": 147, \"washtenaw\": 161}\n",
    "dic_race = {\"white nh\": 1, \"black nh\": 2, \"hispanic\": 3, \"other nh\": 4}\n",
    "dic_gend = {\"male\": 1, \"female\": 2}\n",
    "\n",
    "remi_total_pop = pd.DataFrame()\n",
    "\n",
    "for la in dic_la.keys():\n",
    "    print 'processing table ' + \"control \" + la + \".xlsx\", \n",
    "    for sheet in itertools.product(dic_gend.keys(), dic_race.keys()):\n",
    "        print '.', \n",
    "        dfp = pd.read_excel(inputdir + \"control \" + la + \".xlsx\", sheetname=\" \".join(sheet), header=0)\n",
    "        dfp['large_area_id'] = dic_la[la]\n",
    "        dfp['gender'] = dic_gend[sheet[0]]\n",
    "        dfp['race_id'] = dic_race[sheet[1]]\n",
    "        remi_total_pop = remi_total_pop.append(dfp.round())\n",
    "    print 'done'\n",
    "    \n",
    "remi_total_pop.drop(range(1990, 2015), axis=1, inplace=True)\n",
    "remi_total_pop.index.name = 'age_group'\n",
    "remi_total_pop.reset_index(inplace=True)\n",
    "remi_total_pop['age_group'] = remi_total_pop['age_group'].str.replace('Age.|\\+|\" \"', '').astype(int)\n",
    "logging.debug(remi_total_pop.head())\n",
    "\n",
    "#remi_total_pop.sum(axis=0)\n",
    "#remi_total_pop.groupby('large_area_id').sum().to_csv('remi_pop_total.csv')"
   ]
  },
  {
   "cell_type": "code",
   "execution_count": null,
   "metadata": {
    "collapsed": true
   },
   "outputs": [],
   "source": []
  },
  {
   "cell_type": "code",
   "execution_count": 54,
   "metadata": {
    "collapsed": false
   },
   "outputs": [],
   "source": [
    "# 1.2 recode age to to GQ agegrp \n",
    "remi_total_pop['age_group'] = digitize(remi_total_pop['age_group'], ctrl_bins['age_of_head'])\n",
    "logging.debug(remi_total_pop.age_group.unique())"
   ]
  },
  {
   "cell_type": "code",
   "execution_count": 55,
   "metadata": {
    "collapsed": false
   },
   "outputs": [],
   "source": [
    "## use remi total and HH pop to get GQ pop\n",
    "#REMI Total POP by large area\n",
    "remi_total_pop_la = remi_total_pop.groupby('large_area_id').sum()[years]\n",
    "logging.debug(remi_total_pop_la.head(2))\n",
    "\n",
    "#REMI HH POP by large area\n",
    "remi_hhpop_la = pd.read_excel(inputdir + hh_gq_file, sheetname=\"REMIHHPOPULATION\", index_col=[0], header=0)\n",
    "logging.debug(remi_hhpop_la.head(2))\n",
    "#remi_hhpop_la.sum()\n",
    "\n",
    "#GQ pop by large area\n",
    "gq_pop_la = remi_total_pop_la-remi_hhpop_la\n",
    "logging.debug(gq_pop_la.head(2))"
   ]
  },
  {
   "cell_type": "code",
   "execution_count": 56,
   "metadata": {
    "collapsed": false,
    "scrolled": true
   },
   "outputs": [],
   "source": [
    "# read GQ proportion by age group\n",
    "gq_portion = pd.read_excel(inputdir + hh_gq_file, sheetname=\"GQratios\", header=0)\n",
    "gq_portion['age_group']=digitize(gq_portion['age_group'],ctrl_bins['age_of_head'])\n",
    "gq_portion.set_index(['large_area_id'], inplace=True)\n",
    "logging.debug(gq_portion.head())"
   ]
  },
  {
   "cell_type": "code",
   "execution_count": 57,
   "metadata": {
    "collapsed": false
   },
   "outputs": [],
   "source": [
    "#calculate GQ pop for age groups and LA\n",
    "gq_pop_la_agp = pd.merge(gq_portion, gq_pop_la, left_index=True, right_index=True, how='left')\n",
    "gq_pop_la_agp.set_index('age_group', append=True, inplace=True)\n",
    "gq_pop_la_agp[years] = gq_pop_la_agp[years].multiply(gq_pop_la_agp.gq_portion, axis='index').round(0)\n",
    "gq_pop_la_agp.to_csv(\"gq_pop_forecast.csv\")\n",
    "logging.debug(gq_pop_la_agp.head(2))"
   ]
  },
  {
   "cell_type": "code",
   "execution_count": 8,
   "metadata": {
    "collapsed": false
   },
   "outputs": [],
   "source": [
    "#calculate REMI HH pop by age group and LA\n",
    "remi_hhpop_la_agp = remi_total_pop.groupby(['large_area_id','age_group'])[years].sum() - gq_pop_la_agp\n",
    "remi_hhpop_la_agp.drop('gq_portion', axis =1, inplace=True)\n",
    "logging.debug(remi_hhpop_la_agp.head())"
   ]
  },
  {
   "cell_type": "code",
   "execution_count": 9,
   "metadata": {
    "collapsed": false
   },
   "outputs": [],
   "source": [
    "\n",
    "# 1.3 Aggregate total population by large area, gender, race and age groups\n",
    "remi_total_pop_lgra = remi_total_pop.groupby(['large_area_id', 'gender', 'race_id', 'age_group']).sum()\n",
    "remi_total_pop_lgra.reset_index(inplace=True)\n",
    "logging.debug(remi_total_pop_lgra.head(2))"
   ]
  },
  {
   "cell_type": "code",
   "execution_count": 10,
   "metadata": {
    "collapsed": false
   },
   "outputs": [],
   "source": [
    "#one step, calculate cell percentage as sum of la and age group \n",
    "remi_total_pop_lgra[years]= \\\n",
    "        remi_total_pop_lgra.groupby(['large_area_id','age_group'])[years].apply(lambda x: x.astype(float)/x.sum())\n",
    "lagr_ratios = remi_total_pop_lgra.set_index(['large_area_id','age_group', 'gender', 'race_id'])    \n",
    "logging.debug(lagr_ratios.head(2))"
   ]
  },
  {
   "cell_type": "code",
   "execution_count": 11,
   "metadata": {
    "collapsed": false
   },
   "outputs": [],
   "source": [
    "hhpops_lagr_sum = pd.merge(remi_total_pop_lgra[['large_area_id','age_group', 'gender', 'race_id']], \n",
    "         remi_hhpop_la_agp, left_on=['large_area_id','age_group'], right_index=True, how='left')\n",
    "hhpops_lagr_sum.set_index(['large_area_id','age_group', 'gender', 'race_id'], inplace=True)\n",
    "logging.debug(hhpops_lagr_sum.head(2))"
   ]
  },
  {
   "cell_type": "code",
   "execution_count": 12,
   "metadata": {
    "collapsed": false
   },
   "outputs": [],
   "source": [
    "remi_hhpop_lagr=hhpops_lagr_sum.multiply(lagr_ratios).round()\n",
    "logging.debug(remi_hhpop_lagr.head(3))"
   ]
  },
  {
   "cell_type": "code",
   "execution_count": null,
   "metadata": {
    "collapsed": true
   },
   "outputs": [],
   "source": []
  },
  {
   "cell_type": "markdown",
   "metadata": {
    "collapsed": true
   },
   "source": [
    "## Step 2. Convert REMI HH population to REMI households"
   ]
  },
  {
   "cell_type": "code",
   "execution_count": 13,
   "metadata": {
    "collapsed": false
   },
   "outputs": [],
   "source": [
    "#1.4 read and aggregate synthesized(census) population data (aggregated by lgra)\n",
    "syn_hhpop = pd.read_csv(inputdir + syn_hhpop_file)\n",
    "syn_hhpop['age_group'] = digitize(syn_hhpop['age'], ctrl_bins['age_of_head'])\n",
    "syn_hhpop.rename(columns = {'sex':'gender'},inplace=True)\n",
    "syn_hhpop_lagr = syn_hhpop.groupby(['large_area_id', 'gender', 'race_id', 'age_group']).size().to_frame()\n",
    "syn_hhpop_lagr.columns=['hh_pop']\n",
    "logging.debug(syn_hhpop_lagr.sum()-remi_hhpop_lagr.sum()[2015])"
   ]
  },
  {
   "cell_type": "code",
   "execution_count": 14,
   "metadata": {
    "collapsed": false
   },
   "outputs": [],
   "source": [
    "remi_hhpop_lagr.reset_index(inplace=True)\n",
    "remi_hhpop_lagr.rename(columns={'age_group': 'age_of_head'}, inplace=True)\n",
    "\n",
    "# aggregate REMI HH pop by large area, race and age groups\n",
    "remi_hhpop_lar = remi_hhpop_lagr.groupby(['large_area_id', 'race_id', 'age_of_head'])[years].sum()\n",
    "logging.debug(remi_hhpop_lar.head(2)) "
   ]
  },
  {
   "cell_type": "code",
   "execution_count": 15,
   "metadata": {
    "collapsed": false
   },
   "outputs": [],
   "source": [
    "###Compute synthesized HHs by 3 attributes 'large_area_id','race','age_of_head'\n",
    "#read synthesized HHs\n",
    "syn_hhs=pd.read_csv(inputdir + syn_hh_file,sep=',',header=0)\n",
    "\n",
    "# recode 'age_of_head', 'persons', 'workers','cars','children'\n",
    "for attr in ['age_of_head','persons','workers','cars','children']:\n",
    "    syn_hhs[attr] = digitize(syn_hhs[attr], ctrl_bins[attr])\n",
    "    \n",
    "    \n",
    "# process 'income' into quartile and get bins\n",
    "syn_hhs.loc[syn_hhs['income']<0,'income' ]=0\n",
    "syn_hhs['income'], inc_bins=pd.qcut(syn_hhs['income'], 4, labels=False, retbins=True)\n",
    "syn_hhs['income']= syn_hhs['income'] + 1\n",
    "ctrl_bins['income']=list(inc_bins)\n",
    "logging.debug(ctrl_bins['income'])\n",
    "    \n",
    "#aggregate synthesized HHs3 by 3 attributes 'large_area','race','age_of_head'\n",
    "syn_hhs_lar=syn_hhs.groupby(['large_area_id','race_id','age_of_head']).size().to_frame()\n",
    "syn_hhs_lar.columns=['HHs_lar']\n",
    "\n",
    "logging.debug(syn_hhs_lar.head(2)) \n",
    "logging.debug(syn_hhs[pd.isnull(syn_hhs).any(axis=1)]) "
   ]
  },
  {
   "cell_type": "code",
   "execution_count": 16,
   "metadata": {
    "collapsed": false
   },
   "outputs": [
    {
     "name": "stdout",
     "output_type": "stream",
     "text": [
      "  * Warning, Syn HHs and REMI HH pop have different sub-categories 135 192\n"
     ]
    }
   ],
   "source": [
    "if syn_hhs_lar.shape[0]<>remi_hhpop_lar.shape[0]:\n",
    "    print \"  * Warning, Syn HHs and REMI HH pop have different sub-categories\", syn_hhs_lar.shape[0],remi_hhpop_lar.shape[0]"
   ]
  },
  {
   "cell_type": "code",
   "execution_count": 17,
   "metadata": {
    "collapsed": false
   },
   "outputs": [],
   "source": [
    "remi_hhpop_lagr.reset_index(inplace=True)\n",
    "remi_hhpop_la = remi_hhpop_lagr.groupby('large_area_id').sum()\n",
    "remi_hhpop_la.drop(['gender','race_id','age_of_head'],axis=1, inplace=True)\n",
    "remi_hhpop_la.to_csv('remi_hhpop_bylarge.csv')\n",
    "logging.debug(remi_hhpop_la)"
   ]
  },
  {
   "cell_type": "code",
   "execution_count": 18,
   "metadata": {
    "collapsed": true
   },
   "outputs": [],
   "source": [
    "# join synthesized HH and census HH pop and calculate forecast HHs\n",
    "hh_hhpop_join=pd.merge(syn_hhs_lar, remi_hhpop_lar,left_index=True,right_index=True,how='outer')"
   ]
  },
  {
   "cell_type": "code",
   "execution_count": 19,
   "metadata": {
    "collapsed": false
   },
   "outputs": [
    {
     "data": {
      "text/plain": [
       "Index([u'HHs_lar',       2015,       2016,       2017,       2018,       2019,\n",
       "             2020,       2021,       2022,       2023,       2024,       2025,\n",
       "             2026,       2027,       2028,       2029,       2030,       2031,\n",
       "             2032,       2033,       2034,       2035,       2036,       2037,\n",
       "             2038,       2039,       2040,       2041,       2042,       2043,\n",
       "             2044,       2045],\n",
       "      dtype='object')"
      ]
     },
     "execution_count": 19,
     "metadata": {},
     "output_type": "execute_result"
    }
   ],
   "source": [
    "hh_hhpop_join.columns"
   ]
  },
  {
   "cell_type": "code",
   "execution_count": 20,
   "metadata": {
    "collapsed": false
   },
   "outputs": [],
   "source": [
    "#calculate ratio between baseline HHs and HH pop\n",
    "hh_hhpop_join.fillna(0, inplace=True)\n",
    "hh_hhpop_join.ratio = hh_hhpop_join['HHs_lar']/hh_hhpop_join[baseyear]\n",
    "\n",
    "#apply ratio to forecast years to get future households by lra\n"
   ]
  },
  {
   "cell_type": "code",
   "execution_count": 21,
   "metadata": {
    "collapsed": false
   },
   "outputs": [],
   "source": [
    "remi_hhs = hh_hhpop_join.multiply(hh_hhpop_join.ratio, axis='index')\n",
    "logging.debug(remi_hhs.head())"
   ]
  },
  {
   "cell_type": "code",
   "execution_count": 22,
   "metadata": {
    "collapsed": false
   },
   "outputs": [
    {
     "data": {
      "text/html": [
       "<div>\n",
       "<table border=\"1\" class=\"dataframe\">\n",
       "  <thead>\n",
       "    <tr style=\"text-align: right;\">\n",
       "      <th></th>\n",
       "      <th></th>\n",
       "      <th></th>\n",
       "      <th>HHs_lar</th>\n",
       "      <th>2015</th>\n",
       "      <th>2016</th>\n",
       "      <th>2017</th>\n",
       "      <th>2018</th>\n",
       "      <th>2019</th>\n",
       "      <th>2020</th>\n",
       "      <th>2021</th>\n",
       "      <th>2022</th>\n",
       "      <th>2023</th>\n",
       "      <th>...</th>\n",
       "      <th>2036</th>\n",
       "      <th>2037</th>\n",
       "      <th>2038</th>\n",
       "      <th>2039</th>\n",
       "      <th>2040</th>\n",
       "      <th>2041</th>\n",
       "      <th>2042</th>\n",
       "      <th>2043</th>\n",
       "      <th>2044</th>\n",
       "      <th>2045</th>\n",
       "    </tr>\n",
       "    <tr>\n",
       "      <th>large_area_id</th>\n",
       "      <th>race_id</th>\n",
       "      <th>age_of_head</th>\n",
       "      <th></th>\n",
       "      <th></th>\n",
       "      <th></th>\n",
       "      <th></th>\n",
       "      <th></th>\n",
       "      <th></th>\n",
       "      <th></th>\n",
       "      <th></th>\n",
       "      <th></th>\n",
       "      <th></th>\n",
       "      <th></th>\n",
       "      <th></th>\n",
       "      <th></th>\n",
       "      <th></th>\n",
       "      <th></th>\n",
       "      <th></th>\n",
       "      <th></th>\n",
       "      <th></th>\n",
       "      <th></th>\n",
       "      <th></th>\n",
       "      <th></th>\n",
       "    </tr>\n",
       "  </thead>\n",
       "  <tbody>\n",
       "    <tr>\n",
       "      <th rowspan=\"5\" valign=\"top\">3</th>\n",
       "      <th rowspan=\"5\" valign=\"top\">1</th>\n",
       "      <th>1</th>\n",
       "      <td>0.000000</td>\n",
       "      <td>0.0</td>\n",
       "      <td>0.000000</td>\n",
       "      <td>0.000000</td>\n",
       "      <td>0.000000</td>\n",
       "      <td>0.000000</td>\n",
       "      <td>0.000000</td>\n",
       "      <td>0.000000</td>\n",
       "      <td>0.000000</td>\n",
       "      <td>0.000000</td>\n",
       "      <td>...</td>\n",
       "      <td>0.000000</td>\n",
       "      <td>0.000000</td>\n",
       "      <td>0.000000</td>\n",
       "      <td>0.000000</td>\n",
       "      <td>0.000000</td>\n",
       "      <td>0.000000</td>\n",
       "      <td>0.000000</td>\n",
       "      <td>0.000000</td>\n",
       "      <td>0.000000</td>\n",
       "      <td>0.000000</td>\n",
       "    </tr>\n",
       "    <tr>\n",
       "      <th>2</th>\n",
       "      <td>0.033739</td>\n",
       "      <td>65.0</td>\n",
       "      <td>64.297196</td>\n",
       "      <td>63.504596</td>\n",
       "      <td>62.504891</td>\n",
       "      <td>61.590831</td>\n",
       "      <td>60.686114</td>\n",
       "      <td>59.876904</td>\n",
       "      <td>59.161642</td>\n",
       "      <td>58.523721</td>\n",
       "      <td>...</td>\n",
       "      <td>56.604247</td>\n",
       "      <td>56.522755</td>\n",
       "      <td>56.440744</td>\n",
       "      <td>56.362366</td>\n",
       "      <td>56.282950</td>\n",
       "      <td>56.209244</td>\n",
       "      <td>56.147476</td>\n",
       "      <td>56.098685</td>\n",
       "      <td>56.056641</td>\n",
       "      <td>56.015117</td>\n",
       "    </tr>\n",
       "    <tr>\n",
       "      <th>3</th>\n",
       "      <td>647.328989</td>\n",
       "      <td>6634.0</td>\n",
       "      <td>6445.675467</td>\n",
       "      <td>6406.156589</td>\n",
       "      <td>6441.967523</td>\n",
       "      <td>6504.124377</td>\n",
       "      <td>6435.917720</td>\n",
       "      <td>6324.776972</td>\n",
       "      <td>6224.369747</td>\n",
       "      <td>6154.504273</td>\n",
       "      <td>...</td>\n",
       "      <td>5549.816641</td>\n",
       "      <td>5537.717034</td>\n",
       "      <td>5549.914219</td>\n",
       "      <td>5569.820024</td>\n",
       "      <td>5591.579802</td>\n",
       "      <td>5605.630959</td>\n",
       "      <td>5612.071072</td>\n",
       "      <td>5615.193552</td>\n",
       "      <td>5615.291129</td>\n",
       "      <td>5611.192875</td>\n",
       "    </tr>\n",
       "    <tr>\n",
       "      <th>4</th>\n",
       "      <td>17052.843946</td>\n",
       "      <td>42305.0</td>\n",
       "      <td>42813.703204</td>\n",
       "      <td>42688.341321</td>\n",
       "      <td>42282.426799</td>\n",
       "      <td>41794.281331</td>\n",
       "      <td>41464.954455</td>\n",
       "      <td>41183.998723</td>\n",
       "      <td>40786.146059</td>\n",
       "      <td>40236.730474</td>\n",
       "      <td>...</td>\n",
       "      <td>37991.503178</td>\n",
       "      <td>37893.954703</td>\n",
       "      <td>37747.631990</td>\n",
       "      <td>37602.115463</td>\n",
       "      <td>37438.459757</td>\n",
       "      <td>37392.104077</td>\n",
       "      <td>37373.964898</td>\n",
       "      <td>37329.624682</td>\n",
       "      <td>37467.482444</td>\n",
       "      <td>37529.155654</td>\n",
       "    </tr>\n",
       "    <tr>\n",
       "      <th>5</th>\n",
       "      <td>123496.582816</td>\n",
       "      <td>207014.0</td>\n",
       "      <td>205775.538321</td>\n",
       "      <td>204129.028575</td>\n",
       "      <td>202221.224891</td>\n",
       "      <td>199891.055664</td>\n",
       "      <td>197656.932838</td>\n",
       "      <td>195477.097109</td>\n",
       "      <td>193154.086619</td>\n",
       "      <td>190941.440008</td>\n",
       "      <td>...</td>\n",
       "      <td>178295.529284</td>\n",
       "      <td>178553.840415</td>\n",
       "      <td>179157.560655</td>\n",
       "      <td>180001.098619</td>\n",
       "      <td>180880.430273</td>\n",
       "      <td>181776.465650</td>\n",
       "      <td>182563.330271</td>\n",
       "      <td>183335.280855</td>\n",
       "      <td>183756.453275</td>\n",
       "      <td>184031.468128</td>\n",
       "    </tr>\n",
       "  </tbody>\n",
       "</table>\n",
       "<p>5 rows × 32 columns</p>\n",
       "</div>"
      ],
      "text/plain": [
       "                                         HHs_lar      2015           2016  \\\n",
       "large_area_id race_id age_of_head                                           \n",
       "3             1       1                 0.000000       0.0       0.000000   \n",
       "                      2                 0.033739      65.0      64.297196   \n",
       "                      3               647.328989    6634.0    6445.675467   \n",
       "                      4             17052.843946   42305.0   42813.703204   \n",
       "                      5            123496.582816  207014.0  205775.538321   \n",
       "\n",
       "                                            2017           2018  \\\n",
       "large_area_id race_id age_of_head                                 \n",
       "3             1       1                 0.000000       0.000000   \n",
       "                      2                63.504596      62.504891   \n",
       "                      3              6406.156589    6441.967523   \n",
       "                      4             42688.341321   42282.426799   \n",
       "                      5            204129.028575  202221.224891   \n",
       "\n",
       "                                            2019           2020  \\\n",
       "large_area_id race_id age_of_head                                 \n",
       "3             1       1                 0.000000       0.000000   \n",
       "                      2                61.590831      60.686114   \n",
       "                      3              6504.124377    6435.917720   \n",
       "                      4             41794.281331   41464.954455   \n",
       "                      5            199891.055664  197656.932838   \n",
       "\n",
       "                                            2021           2022  \\\n",
       "large_area_id race_id age_of_head                                 \n",
       "3             1       1                 0.000000       0.000000   \n",
       "                      2                59.876904      59.161642   \n",
       "                      3              6324.776972    6224.369747   \n",
       "                      4             41183.998723   40786.146059   \n",
       "                      5            195477.097109  193154.086619   \n",
       "\n",
       "                                            2023      ...        \\\n",
       "large_area_id race_id age_of_head                     ...         \n",
       "3             1       1                 0.000000      ...         \n",
       "                      2                58.523721      ...         \n",
       "                      3              6154.504273      ...         \n",
       "                      4             40236.730474      ...         \n",
       "                      5            190941.440008      ...         \n",
       "\n",
       "                                            2036           2037  \\\n",
       "large_area_id race_id age_of_head                                 \n",
       "3             1       1                 0.000000       0.000000   \n",
       "                      2                56.604247      56.522755   \n",
       "                      3              5549.816641    5537.717034   \n",
       "                      4             37991.503178   37893.954703   \n",
       "                      5            178295.529284  178553.840415   \n",
       "\n",
       "                                            2038           2039  \\\n",
       "large_area_id race_id age_of_head                                 \n",
       "3             1       1                 0.000000       0.000000   \n",
       "                      2                56.440744      56.362366   \n",
       "                      3              5549.914219    5569.820024   \n",
       "                      4             37747.631990   37602.115463   \n",
       "                      5            179157.560655  180001.098619   \n",
       "\n",
       "                                            2040           2041  \\\n",
       "large_area_id race_id age_of_head                                 \n",
       "3             1       1                 0.000000       0.000000   \n",
       "                      2                56.282950      56.209244   \n",
       "                      3              5591.579802    5605.630959   \n",
       "                      4             37438.459757   37392.104077   \n",
       "                      5            180880.430273  181776.465650   \n",
       "\n",
       "                                            2042           2043  \\\n",
       "large_area_id race_id age_of_head                                 \n",
       "3             1       1                 0.000000       0.000000   \n",
       "                      2                56.147476      56.098685   \n",
       "                      3              5612.071072    5615.193552   \n",
       "                      4             37373.964898   37329.624682   \n",
       "                      5            182563.330271  183335.280855   \n",
       "\n",
       "                                            2044           2045  \n",
       "large_area_id race_id age_of_head                                \n",
       "3             1       1                 0.000000       0.000000  \n",
       "                      2                56.056641      56.015117  \n",
       "                      3              5615.291129    5611.192875  \n",
       "                      4             37467.482444   37529.155654  \n",
       "                      5            183756.453275  184031.468128  \n",
       "\n",
       "[5 rows x 32 columns]"
      ]
     },
     "execution_count": 22,
     "metadata": {},
     "output_type": "execute_result"
    }
   ],
   "source": [
    "remi_hhs.head()"
   ]
  },
  {
   "cell_type": "markdown",
   "metadata": {},
   "source": [
    "## Step 3. Extend REMI HHs attributes "
   ]
  },
  {
   "cell_type": "code",
   "execution_count": 23,
   "metadata": {
    "collapsed": false
   },
   "outputs": [],
   "source": [
    "#aggregate synthesized HHs by all HH attributes\n",
    "syn_hhs_sum_all=syn_hhs.groupby(control_attrs).size().to_frame()\n",
    "syn_hhs_sum_all.columns = ['HHs_all']\n",
    "\n",
    "#reindex synthetic HHs by large, race and age\n",
    "syn_hhs_sum_all_lar=syn_hhs_sum_all.reset_index().set_index(['large_area_id','race_id','age_of_head'])\n",
    "\n",
    "logging.debug(syn_hhs_sum_all_lar.head())"
   ]
  },
  {
   "cell_type": "code",
   "execution_count": 24,
   "metadata": {
    "collapsed": false
   },
   "outputs": [],
   "source": [
    "#merge synthetic HHs aggregated by all attributes to synthetic HHs aggregated by lra\n",
    "syn_hhs_join=pd.merge(syn_hhs_sum_all_lar,syn_hhs_lar, left_index=True, right_index=True, how='outer')\n",
    "syn_hhs_join['ratio'] = syn_hhs_join['HHs_all']/syn_hhs_join['HHs_lar']\n",
    "logging.debug(syn_hhs_join.head(3))"
   ]
  },
  {
   "cell_type": "code",
   "execution_count": 25,
   "metadata": {
    "collapsed": false
   },
   "outputs": [],
   "source": [
    "#merge syn hhs with ratio to REMI hhs\n",
    "remi_hhs_ratio=pd.merge(syn_hhs_join,remi_hhs, left_index=True, right_index=True, how='outer')\n",
    "remi_hhs_ratio.reset_index(inplace=True)\n",
    "remi_hhs_ratio.set_index(control_attrs,inplace=True)\n",
    "logging.debug(remi_hhs_ratio.head(3))"
   ]
  },
  {
   "cell_type": "code",
   "execution_count": 26,
   "metadata": {
    "collapsed": false
   },
   "outputs": [],
   "source": [
    "#remi_hhs_83ratio.ratio = remi_hhs_83ratio['HHs_all']/remi_hhs_83ratio['HHs3']\n",
    "remi_hhs_ratio=remi_hhs_ratio.multiply(remi_hhs_ratio.ratio, axis='index')\n",
    "remi_hhs_ratio.fillna(0, inplace=True)\n",
    "#remi_hhs_83ratio.head()\n",
    "\n",
    "#drop unwanted columns\n",
    "remi_hhs_ratio=remi_hhs_ratio[years]\n",
    "\n",
    "logging.debug(remi_hhs_ratio.head(3))"
   ]
  },
  {
   "cell_type": "code",
   "execution_count": 27,
   "metadata": {
    "collapsed": false
   },
   "outputs": [],
   "source": [
    "#filter out rows with 0s from 2010 to 2040, this could reduce table size significantly\n",
    "hhs_filtered=remi_hhs_ratio[remi_hhs_ratio.sum(axis=1)>0]\n",
    "logging.debug(hhs_filtered.head())"
   ]
  },
  {
   "cell_type": "markdown",
   "metadata": {},
   "source": [
    "### Step 4: estimate total persons through HH size, the scale the HHs to meet REMI HH pop target"
   ]
  },
  {
   "cell_type": "code",
   "execution_count": 28,
   "metadata": {
    "collapsed": false
   },
   "outputs": [],
   "source": [
    "hhs_base = hhs_filtered.copy()\n",
    "hhs_base.reset_index(inplace=True)"
   ]
  },
  {
   "cell_type": "code",
   "execution_count": 29,
   "metadata": {
    "collapsed": false
   },
   "outputs": [],
   "source": [
    "hhs_size_la = hhs_base.groupby(['large_area_id','persons'])[years].sum().reset_index()\n",
    "hhs_size_la.loc[hhs_size_la['persons']==10.0, 'persons']=11.1  #change 10+ hh size to 11.1 (average from transition result)"
   ]
  },
  {
   "cell_type": "code",
   "execution_count": 30,
   "metadata": {
    "collapsed": false
   },
   "outputs": [],
   "source": [
    "hhs_size_la[years]=hhs_size_la[years].multiply(hhs_size_la.persons,axis=0)"
   ]
  },
  {
   "cell_type": "code",
   "execution_count": 31,
   "metadata": {
    "collapsed": false
   },
   "outputs": [],
   "source": [
    "ctr_persons_la = hhs_size_la.groupby('large_area_id')[years].sum() # estimated hh pop by large area by year"
   ]
  },
  {
   "cell_type": "code",
   "execution_count": 32,
   "metadata": {
    "collapsed": false
   },
   "outputs": [],
   "source": [
    "hhs_base.set_index('large_area_id',inplace=True)\n",
    "hhs_base[years]=hhs_base[years]*remi_hhpop_la[years]/ctr_persons_la[years]"
   ]
  },
  {
   "cell_type": "code",
   "execution_count": 33,
   "metadata": {
    "collapsed": false
   },
   "outputs": [],
   "source": [
    "#verify the adjustment, estimated persons by year should be slightly less than REMI HH pop by year\n",
    "logging.debug(hhs_base[years].multiply(hhs_base.persons,axis=0).sum(axis=0)-remi_hhpop_la.sum(axis=0))"
   ]
  },
  {
   "cell_type": "code",
   "execution_count": 34,
   "metadata": {
    "collapsed": false
   },
   "outputs": [],
   "source": [
    "hhs_base.reset_index(inplace=True)\n",
    "hhs_base.set_index(control_attrs,inplace=True)\n",
    "hhs_base=hhs_base.round(0)\n",
    "logging.debug(hhs_base.head())"
   ]
  },
  {
   "cell_type": "code",
   "execution_count": null,
   "metadata": {
    "collapsed": false
   },
   "outputs": [],
   "source": []
  },
  {
   "cell_type": "markdown",
   "metadata": {},
   "source": [
    "## Step 5. format control total table"
   ]
  },
  {
   "cell_type": "code",
   "execution_count": 35,
   "metadata": {
    "collapsed": false
   },
   "outputs": [],
   "source": [
    "\n",
    "#stack household control table and add year to index\n",
    "dfhh=pd.DataFrame(hhs_base.stack(),columns=['total_number_of_households'])\n",
    "indn=dfhh.index.names[:-1]+['year']\n",
    "dfhh.index.names=indn\n",
    "logging.debug(dfhh.head(5))"
   ]
  },
  {
   "cell_type": "code",
   "execution_count": 36,
   "metadata": {
    "collapsed": false
   },
   "outputs": [],
   "source": [
    "#round 'total_number_of_households'\n",
    "dfcc=dfhh.reset_index()\n",
    "\n",
    "dfcc['total_number_of_households']=pd.Series.round(dfcc['total_number_of_households'],0)\n",
    "logging.debug(dfcc.head())"
   ]
  },
  {
   "cell_type": "code",
   "execution_count": 37,
   "metadata": {
    "collapsed": false
   },
   "outputs": [
    {
     "name": "stdout",
     "output_type": "stream",
     "text": [
      "[ 1.  2.  3.  4.]\n"
     ]
    }
   ],
   "source": [
    "#review output\n",
    "print unique(dfcc['income'])\n",
    "dft=dfcc[dfcc.year.isin([2015,2020,2025,2030,2035,2040,2045])]\n",
    "logging.debug(dft.groupby(['year','income'])['total_number_of_households'].sum())"
   ]
  },
  {
   "cell_type": "code",
   "execution_count": 38,
   "metadata": {
    "collapsed": false
   },
   "outputs": [],
   "source": [
    "for hhattr in ctrl_bins.keys():\n",
    "    fmt_bin = ctrl_bins[hhattr] + [0]\n",
    "    colmin, colmax=hhattr+'_min',hhattr+'_max'\n",
    "    dfcc[colmin] = dfcc[hhattr].apply(lambda x: fmt_bin[int(x)-1])\n",
    "    dfcc[colmax] = dfcc[hhattr].apply(lambda x: fmt_bin[int(x)]) -1\n"
   ]
  },
  {
   "cell_type": "code",
   "execution_count": 39,
   "metadata": {
    "collapsed": false
   },
   "outputs": [
    {
     "name": "stdout",
     "output_type": "stream",
     "text": [
      "cars_min  cars_max\n",
      "0          0           5450205.0\n",
      "1          1          22877410.0\n",
      "2          2          22781626.0\n",
      "3         -1          10651684.0\n",
      "Name: total_number_of_households, dtype: float64\n",
      "workers_min  workers_max\n",
      "0             0             20923189.0\n",
      "1             1             23014606.0\n",
      "2             2             14397321.0\n",
      "3            -1              3425809.0\n",
      "Name: total_number_of_households, dtype: float64\n",
      "persons_min  persons_max\n",
      "1             1             18742804.0\n",
      "2             2             20477042.0\n",
      "3             3              9187585.0\n",
      "4             4              7824878.0\n",
      "5             5              3462412.0\n",
      "6             6              1334402.0\n",
      "7             7               450300.0\n",
      "8             8               167541.0\n",
      "9             9                55520.0\n",
      "10           -1                58441.0\n",
      "Name: total_number_of_households, dtype: float64\n",
      "income_min  income_max \n",
      "0.000       26248.210      15773037.0\n",
      "26249.210   54726.794      15910943.0\n",
      "54727.794   98419.640      15282623.0\n",
      "98420.640   1042900.305    14794322.0\n",
      "Name: total_number_of_households, dtype: float64\n",
      "age_of_head_min  age_of_head_max\n",
      "5                 17                   11364.0\n",
      "18                24                 1655259.0\n",
      "25                34                 8098553.0\n",
      "35                64                32768818.0\n",
      "65               -1                 19226931.0\n",
      "Name: total_number_of_households, dtype: float64\n",
      "children_min  children_max\n",
      "0              0              44336641.0\n",
      "1              1               7310762.0\n",
      "2              2               6329369.0\n",
      "3             -1               3784153.0\n",
      "Name: total_number_of_households, dtype: float64\n"
     ]
    }
   ],
   "source": [
    "for hhattr in ctrl_bins.keys():   \n",
    "    print dfcc.groupby([hhattr+'_min',hhattr + '_max'])['total_number_of_households'].sum()"
   ]
  },
  {
   "cell_type": "code",
   "execution_count": 48,
   "metadata": {
    "collapsed": false
   },
   "outputs": [],
   "source": [
    "writer = pd.ExcelWriter('output.xlsx')\n",
    "dft=dfcc[dfcc.year.isin([2015,2020,2025,2030,2035,2040,2045])]\n",
    "for col in ctrl_bins.keys():\n",
    "    ss = dft.groupby(['year',col])['total_number_of_households'].sum()\n",
    "    ss.to_frame().to_excel(writer,col)\n"
   ]
  },
  {
   "cell_type": "code",
   "execution_count": 50,
   "metadata": {
    "collapsed": false
   },
   "outputs": [
    {
     "data": {
      "text/html": [
       "<div>\n",
       "<table border=\"1\" class=\"dataframe\">\n",
       "  <thead>\n",
       "    <tr style=\"text-align: right;\">\n",
       "      <th></th>\n",
       "      <th></th>\n",
       "      <th>total_number_of_households</th>\n",
       "    </tr>\n",
       "    <tr>\n",
       "      <th>year</th>\n",
       "      <th>children</th>\n",
       "      <th></th>\n",
       "    </tr>\n",
       "  </thead>\n",
       "  <tbody>\n",
       "    <tr>\n",
       "      <th rowspan=\"4\" valign=\"top\">2015</th>\n",
       "      <th>1.0</th>\n",
       "      <td>1298046.0</td>\n",
       "    </tr>\n",
       "    <tr>\n",
       "      <th>2.0</th>\n",
       "      <td>238418.0</td>\n",
       "    </tr>\n",
       "    <tr>\n",
       "      <th>3.0</th>\n",
       "      <td>209009.0</td>\n",
       "    </tr>\n",
       "    <tr>\n",
       "      <th>4.0</th>\n",
       "      <td>124697.0</td>\n",
       "    </tr>\n",
       "    <tr>\n",
       "      <th rowspan=\"4\" valign=\"top\">2020</th>\n",
       "      <th>1.0</th>\n",
       "      <td>1340720.0</td>\n",
       "    </tr>\n",
       "    <tr>\n",
       "      <th>2.0</th>\n",
       "      <td>236630.0</td>\n",
       "    </tr>\n",
       "    <tr>\n",
       "      <th>3.0</th>\n",
       "      <td>206815.0</td>\n",
       "    </tr>\n",
       "    <tr>\n",
       "      <th>4.0</th>\n",
       "      <td>123516.0</td>\n",
       "    </tr>\n",
       "    <tr>\n",
       "      <th rowspan=\"4\" valign=\"top\">2025</th>\n",
       "      <th>1.0</th>\n",
       "      <td>1397144.0</td>\n",
       "    </tr>\n",
       "    <tr>\n",
       "      <th>2.0</th>\n",
       "      <td>233702.0</td>\n",
       "    </tr>\n",
       "    <tr>\n",
       "      <th>3.0</th>\n",
       "      <td>202869.0</td>\n",
       "    </tr>\n",
       "    <tr>\n",
       "      <th>4.0</th>\n",
       "      <td>121033.0</td>\n",
       "    </tr>\n",
       "    <tr>\n",
       "      <th rowspan=\"4\" valign=\"top\">2030</th>\n",
       "      <th>1.0</th>\n",
       "      <td>1449901.0</td>\n",
       "    </tr>\n",
       "    <tr>\n",
       "      <th>2.0</th>\n",
       "      <td>232880.0</td>\n",
       "    </tr>\n",
       "    <tr>\n",
       "      <th>3.0</th>\n",
       "      <td>200814.0</td>\n",
       "    </tr>\n",
       "    <tr>\n",
       "      <th>4.0</th>\n",
       "      <td>119909.0</td>\n",
       "    </tr>\n",
       "    <tr>\n",
       "      <th rowspan=\"4\" valign=\"top\">2035</th>\n",
       "      <th>1.0</th>\n",
       "      <td>1487086.0</td>\n",
       "    </tr>\n",
       "    <tr>\n",
       "      <th>2.0</th>\n",
       "      <td>234337.0</td>\n",
       "    </tr>\n",
       "    <tr>\n",
       "      <th>3.0</th>\n",
       "      <td>201613.0</td>\n",
       "    </tr>\n",
       "    <tr>\n",
       "      <th>4.0</th>\n",
       "      <td>120686.0</td>\n",
       "    </tr>\n",
       "    <tr>\n",
       "      <th rowspan=\"4\" valign=\"top\">2040</th>\n",
       "      <th>1.0</th>\n",
       "      <td>1506209.0</td>\n",
       "    </tr>\n",
       "    <tr>\n",
       "      <th>2.0</th>\n",
       "      <td>237313.0</td>\n",
       "    </tr>\n",
       "    <tr>\n",
       "      <th>3.0</th>\n",
       "      <td>204169.0</td>\n",
       "    </tr>\n",
       "    <tr>\n",
       "      <th>4.0</th>\n",
       "      <td>122336.0</td>\n",
       "    </tr>\n",
       "    <tr>\n",
       "      <th rowspan=\"4\" valign=\"top\">2045</th>\n",
       "      <th>1.0</th>\n",
       "      <td>1510097.0</td>\n",
       "    </tr>\n",
       "    <tr>\n",
       "      <th>2.0</th>\n",
       "      <td>240817.0</td>\n",
       "    </tr>\n",
       "    <tr>\n",
       "      <th>3.0</th>\n",
       "      <td>207263.0</td>\n",
       "    </tr>\n",
       "    <tr>\n",
       "      <th>4.0</th>\n",
       "      <td>124384.0</td>\n",
       "    </tr>\n",
       "  </tbody>\n",
       "</table>\n",
       "</div>"
      ],
      "text/plain": [
       "               total_number_of_households\n",
       "year children                            \n",
       "2015 1.0                        1298046.0\n",
       "     2.0                         238418.0\n",
       "     3.0                         209009.0\n",
       "     4.0                         124697.0\n",
       "2020 1.0                        1340720.0\n",
       "     2.0                         236630.0\n",
       "     3.0                         206815.0\n",
       "     4.0                         123516.0\n",
       "2025 1.0                        1397144.0\n",
       "     2.0                         233702.0\n",
       "     3.0                         202869.0\n",
       "     4.0                         121033.0\n",
       "2030 1.0                        1449901.0\n",
       "     2.0                         232880.0\n",
       "     3.0                         200814.0\n",
       "     4.0                         119909.0\n",
       "2035 1.0                        1487086.0\n",
       "     2.0                         234337.0\n",
       "     3.0                         201613.0\n",
       "     4.0                         120686.0\n",
       "2040 1.0                        1506209.0\n",
       "     2.0                         237313.0\n",
       "     3.0                         204169.0\n",
       "     4.0                         122336.0\n",
       "2045 1.0                        1510097.0\n",
       "     2.0                         240817.0\n",
       "     3.0                         207263.0\n",
       "     4.0                         124384.0"
      ]
     },
     "execution_count": 50,
     "metadata": {},
     "output_type": "execute_result"
    }
   ],
   "source": [
    "ss.to_frame()"
   ]
  },
  {
   "cell_type": "code",
   "execution_count": 40,
   "metadata": {
    "collapsed": false
   },
   "outputs": [],
   "source": [
    "removefields=control_attrs[:]\n",
    "removefields.remove('large_area_id')\n",
    "removefields.remove('race_id')\n",
    "\n",
    "dfcc.drop(removefields,1,inplace=True)\n",
    "dfcc=dfcc.astype(int64)\n",
    "dfcc=dfcc.set_index('year')\n",
    "\n",
    "\n",
    "logging.debug(dfcc.head(5))"
   ]
  },
  {
   "cell_type": "code",
   "execution_count": 41,
   "metadata": {
    "collapsed": false
   },
   "outputs": [],
   "source": [
    "dfcc.to_csv(\"annual_household_control_totals_gqadj.csv\")"
   ]
  },
  {
   "cell_type": "code",
   "execution_count": null,
   "metadata": {
    "collapsed": false
   },
   "outputs": [],
   "source": []
  },
  {
   "cell_type": "code",
   "execution_count": null,
   "metadata": {
    "collapsed": true
   },
   "outputs": [],
   "source": []
  },
  {
   "cell_type": "code",
   "execution_count": 42,
   "metadata": {
    "collapsed": false
   },
   "outputs": [
    {
     "name": "stdout",
     "output_type": "stream",
     "text": [
      "households growth 1.11356775053\n",
      "persons growth 1.07807516133\n"
     ]
    }
   ],
   "source": [
    "#households growth 1.13731894257 (before scale by HH pop)\n",
    "#persons growth 1.06802522683 (before scale by HH pop)\n",
    "\n",
    "\n",
    "#2045/2015 HHs growth\n",
    "print 'households growth', dfcc.loc[2045].sum()['total_number_of_households'].astype(float)/dfcc.loc[2015].sum()['total_number_of_households']\n",
    "#2045/2015 persons growth\n",
    "print 'persons growth', remi_hhpop_lar[2045].sum()/remi_hhpop_lar[2015].sum()"
   ]
  },
  {
   "cell_type": "code",
   "execution_count": 43,
   "metadata": {
    "collapsed": false
   },
   "outputs": [
    {
     "data": {
      "text/plain": [
       "1.1135677505253534"
      ]
     },
     "execution_count": 43,
     "metadata": {},
     "output_type": "execute_result"
    }
   ],
   "source": [
    "dfcc.loc[2045].sum()['total_number_of_households'].astype(float)/ dfcc.loc[2015].sum()['total_number_of_households']"
   ]
  },
  {
   "cell_type": "code",
   "execution_count": null,
   "metadata": {
    "collapsed": true
   },
   "outputs": [],
   "source": []
  },
  {
   "cell_type": "markdown",
   "metadata": {},
   "source": [
    "### End"
   ]
  },
  {
   "cell_type": "code",
   "execution_count": null,
   "metadata": {
    "collapsed": false
   },
   "outputs": [],
   "source": [
    "#some analysis\n",
    "import pandas as pd\n",
    "ht=pd.read_csv('annual_household_control_totals_pandas.csv')"
   ]
  },
  {
   "cell_type": "code",
   "execution_count": null,
   "metadata": {
    "collapsed": false
   },
   "outputs": [],
   "source": [
    "ht.groupby('year').total_number_of_households.sum()"
   ]
  },
  {
   "cell_type": "code",
   "execution_count": null,
   "metadata": {
    "collapsed": false
   },
   "outputs": [],
   "source": [
    "ht[(ht.large_area_id==115) & (ht.persons_min>=10)]"
   ]
  },
  {
   "cell_type": "code",
   "execution_count": null,
   "metadata": {
    "collapsed": true
   },
   "outputs": [],
   "source": []
  }
 ],
 "metadata": {
  "anaconda-cloud": {},
  "kernelspec": {
   "display_name": "Python 2",
   "language": "python",
   "name": "python2"
  },
  "language_info": {
   "codemirror_mode": {
    "name": "ipython",
    "version": 2
   },
   "file_extension": ".py",
   "mimetype": "text/x-python",
   "name": "python",
   "nbconvert_exporter": "python",
   "pygments_lexer": "ipython2",
   "version": "2.7.13"
  }
 },
 "nbformat": 4,
 "nbformat_minor": 0
}
